{
 "cells": [
  {
   "cell_type": "markdown",
   "metadata": {},
   "source": [
    "<h1 style=\"text-align:center\">Tarea 3 - Localización de sismos mediante triangulación</h1>\n",
    "<h2 style=\"text-align:center\"> ACUS125: Aislamiento y Análisis de Vibraciones </h2>\n",
    "<h3 style=\"text-align:center\"> Primer semestre 2023 </h3>\n",
    "\n",
    "<p style=\"text-align:center\"> <b>Profesor </b></p>\n",
    "<p style=\"text-align:center\">Dr. Víctor Poblete R. <br>\n",
    "<a href=\"mailto:vpoblete@uach.cl\">vpoblete@uach.cl</a><br>\n",
    "\n",
    "<p style=\"text-align:center\"> <b>Ayudante </b></p>\n",
    "\n",
    "<p style=\"text-align:center\">Rafael Peñailillo H.<br>\n",
    "<a href=\"mailto:vpoblete@uach.cl\">rafael.penailillo@alumnos.uach.cl</a><br>"
   ]
  },
  {
   "cell_type": "markdown",
   "metadata": {},
   "source": [
    "### Actividad 1: Utilizando la librería Obspy, importar la señales entregadas, graficar la forma de onda y espectrograma de los tres ejes, para cada estación."
   ]
  },
  {
   "cell_type": "markdown",
   "metadata": {},
   "source": [
    "> HINT: La función ``read`` de osbpy puede importar en un solo objeta las tres trazas presentes en la carpeta en la forma ``read(path/to/folder/station_name/*.sac)``."
   ]
  },
  {
   "cell_type": "markdown",
   "metadata": {},
   "source": [
    "### Actividad 2: \"Picar\" (encontrar) los tiempos de llegada de la onda P y la onda S. Filtrar la señal de ser necesario (para mejorar el gráfico) con la función ``osbpy.signal.filter.bandpass``, para cada estación."
   ]
  },
  {
   "cell_type": "markdown",
   "metadata": {},
   "source": [
    "### Actividad 3: Utilizando la tabla IASP94 de tiempos de viajes de las ondas (https://www.usgs.gov/media/images/travel-time-curves), encontrar la distancia a la que ocurrió el sismo, para cada estación."
   ]
  },
  {
   "cell_type": "markdown",
   "metadata": {},
   "source": [
    "### Actividad 4: En herramienta de IRIS: Earthquake Triangulation (https://www.iris.edu/hq/inclass/software-web-app/earthquake_triangulation), añadir la información encontrada en las actividades anteriores para cada estación, y presentar la localización (latitud y longitud) del sismo encontrado. "
   ]
  }
 ],
 "metadata": {
  "kernelspec": {
   "display_name": "base",
   "language": "python",
   "name": "python3"
  },
  "language_info": {
   "name": "python",
   "version": "3.8.19"
  }
 },
 "nbformat": 4,
 "nbformat_minor": 2
}
