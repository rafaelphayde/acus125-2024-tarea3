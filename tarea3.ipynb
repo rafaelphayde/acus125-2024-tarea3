{
 "cells": [
  {
   "cell_type": "markdown",
   "metadata": {},
   "source": [
    "<h1 style=\"text-align:center\">Tarea 3 - Localización de sismos mediante triangulación</h1>\n",
    "<h2 style=\"text-align:center\"> ACUS125: Aislamiento y Análisis de Vibraciones </h2>\n",
    "<h3 style=\"text-align:center\"> Segundo Semestre 2024 </h3>\n",
    "\n",
    "<p style=\"text-align:center\"> <b>Profesor </b></p>\n",
    "<p style=\"text-align:center\">Dr. Víctor Poblete R. <br>\n",
    "<a href=\"mailto:vpoblete@uach.cl\">vpoblete@uach.cl</a><br>\n",
    "\n",
    "<p style=\"text-align:center\"> <b>Ayudante </b></p>\n",
    "\n",
    "<p style=\"text-align:center\">Rafael Hayde P.<br>\n",
    "<a href=\"mailto:vpoblete@uach.cl\">rafael.penailillo@alumnos.uach.cl</a><br>"
   ]
  },
  {
   "cell_type": "markdown",
   "metadata": {},
   "source": [
    "### Actividad 1: Utilizando la librería Obspy, importar la señales entregadas, graficar la forma de onda y espectrograma de los tres ejes, para cada estación."
   ]
  },
  {
   "cell_type": "markdown",
   "metadata": {},
   "source": [
    "> HINT: La función ``read`` de osbpy puede importar en un solo objeta las tres trazas presentes en la carpeta en la forma ``read(path/to/folder/station_name/*.sac)``."
   ]
  },
  {
   "cell_type": "markdown",
   "metadata": {},
   "source": [
    "### Actividad 2: \"Picar\" (encontrar) los tiempos de llegada de la onda P y la onda S. Filtrar la señal (para mejorar el gráfico) con la función ``obspy.signal.filter.bandpass`` entre 1 a 10 Hz, para cada estación."
   ]
  },
  {
   "cell_type": "markdown",
   "metadata": {},
   "source": [
    "### Actividad 3: Utilizando la tabla IASP94 de tiempos de viajes de las ondas (https://www.usgs.gov/media/images/travel-time-curves), encontrar la distancia a la que ocurrió el sismo, para cada estación.\n",
    "\n",
    "> HINT: En caso de sismos locales, es decir, hasta una distancia de 10 grados, se recomienda aproximar las curvas P y S como las rectas $ L_p = 0.29 * x$ y $ L_s = 0.5 * x$ respectivamente."
   ]
  },
  {
   "cell_type": "markdown",
   "metadata": {},
   "source": [
    "### Actividad 4: En la herramienta de IRIS: Earthquake Triangulation (https://www.iris.edu/hq/inclass/software-web-app/earthquake_triangulation), añadir la información encontrada en las actividades anteriores para cada estación, y presentar la localización (latitud y longitud) del sismo encontrado. "
   ]
  }
 ],
 "metadata": {
  "kernelspec": {
   "display_name": "Python 3.8.10 ('simos')",
   "language": "python",
   "name": "python3"
  },
  "language_info": {
   "codemirror_mode": {
    "name": "ipython",
    "version": 3
   },
   "file_extension": ".py",
   "mimetype": "text/x-python",
   "name": "python",
   "nbconvert_exporter": "python",
   "pygments_lexer": "ipython3",
   "version": "3.8.10"
  },
  "vscode": {
   "interpreter": {
    "hash": "5750e948a698dcda0683f28d8e44c71255fdada231661763addb64150f1d206b"
   }
  }
 },
 "nbformat": 4,
 "nbformat_minor": 2
}
